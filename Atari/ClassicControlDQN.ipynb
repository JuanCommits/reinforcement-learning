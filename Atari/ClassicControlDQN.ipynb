{
 "cells": [
  {
   "cell_type": "markdown",
   "metadata": {},
   "source": [
    "## DQN sobre ambientes de Classic Control"
   ]
  },
  {
   "cell_type": "markdown",
   "metadata": {},
   "source": [
    "https://gymnasium.farama.org/environments/classic_control/"
   ]
  },
  {
   "cell_type": "markdown",
   "metadata": {
    "id": "gc6t9etEt9I2",
    "pycharm": {
     "name": "#%%\n"
    }
   },
   "source": [
    "### Imports"
   ]
  },
  {
   "cell_type": "code",
   "execution_count": 37,
   "metadata": {
    "id": "cwHCw6PMt9I3",
    "pycharm": {
     "name": "#%%\n"
    }
   },
   "outputs": [],
   "source": [
    "import torch\n",
    "import numpy as np\n",
    "import random\n",
    "import numpy as np\n",
    "import gymnasium"
   ]
  },
  {
   "cell_type": "markdown",
   "metadata": {
    "id": "ySRyzNz8t9I3"
   },
   "source": [
    "### Seteamos los devices"
   ]
  },
  {
   "cell_type": "code",
   "execution_count": 38,
   "metadata": {
    "colab": {
     "base_uri": "https://localhost:8080/"
    },
    "id": "8zcyB176t9I3",
    "outputId": "4239691d-04a7-47de-9898-ee53cf047a8c"
   },
   "outputs": [
    {
     "name": "stdout",
     "output_type": "stream",
     "text": [
      "Running on cuda:0\n",
      "Cuda Available: True\n"
     ]
    }
   ],
   "source": [
    "DEVICE = torch.device('cuda:0' if torch.cuda.is_available() else 'cpu')\n",
    "print(f\"Running on {DEVICE}\")\n",
    "print(\"Cuda Available:\", torch.cuda.is_available())"
   ]
  },
  {
   "cell_type": "markdown",
   "metadata": {
    "id": "xcfjdDuQt9I4"
   },
   "source": [
    "### Seteo de seeds\n",
    "Siempre es buena práctica hacer el seteo de seeds para la reproducibilidad de los experimentos"
   ]
  },
  {
   "cell_type": "code",
   "execution_count": 39,
   "metadata": {
    "id": "bxW_5r15t9I5"
   },
   "outputs": [],
   "source": [
    "random.seed(42)\n",
    "np.random.seed(42)\n",
    "torch.manual_seed(42)\n",
    "torch.backends.cudnn.deterministic = True"
   ]
  },
  {
   "cell_type": "markdown",
   "metadata": {
    "id": "2bYVG_TKt9I5"
   },
   "source": [
    "### Creamos el ambiente y probamos algunas de sus funciones.\n",
    "\n",
    "En este caso elegimos el CartPole pero pueden cambiarlo en la variable *ENV_NAME*.\n",
    "El ambiente CartPole tiene la ventaja de que las recompensas son positivas y es mas fácil propagar estas hacia los estados iniciales. Mountain Car tiene como recompensa -1 por cada paso que damos y esta limitado a 200 pasos."
   ]
  },
  {
   "cell_type": "code",
   "execution_count": 40,
   "metadata": {
    "colab": {
     "base_uri": "https://localhost:8080/"
    },
    "id": "loVxQPrwt9I5",
    "outputId": "18b7ed97-88dd-4b1e-a2cc-b2636686bfc7"
   },
   "outputs": [
    {
     "name": "stdout",
     "output_type": "stream",
     "text": [
      "Actions # Discrete(2)\n",
      "(4,)\n",
      "(4,),\n",
      " 1.0,\n",
      " False,\n",
      " {}\n"
     ]
    }
   ],
   "source": [
    "ENVS = [\"MountainCar-v0\", \"CartPole-v1\"]\n",
    "ENV_NAME = ENVS[1]\n",
    "\n",
    "env = gymnasium.make(ENV_NAME, render_mode=\"rgb_array\")\n",
    "\n",
    "print(\"Actions #\",env.action_space)\n",
    "print(env.observation_space.shape)\n",
    "env.reset()\n",
    "next_state, reward, terminated, truncated, info = env.step(action=0)\n",
    "\n",
    "print(f\"{next_state.shape},\\n {reward},\\n {terminated},\\n {info}\")"
   ]
  },
  {
   "cell_type": "markdown",
   "metadata": {},
   "source": [
    "### Seteamos los hyperparámetros"
   ]
  },
  {
   "cell_type": "code",
   "execution_count": 41,
   "metadata": {
    "id": "oegpMg25t9I9",
    "pycharm": {
     "name": "#%%\n"
    }
   },
   "outputs": [],
   "source": [
    "def process_state(obs, device):\n",
    "    return torch.tensor(obs, device=device).unsqueeze(0)\n",
    "\n",
    "#Hiperparámetros de entrenamiento del agente DQN\n",
    "TOTAL_STEPS = 1000000\n",
    "EPISODES = 6000\n",
    "STEPS = 200\n",
    "\n",
    "EPSILON_INI = 1\n",
    "EPSILON_MIN = 0.1\n",
    "EPSILON_DECAY = .99999\n",
    "EPISODE_BLOCK = 100\n",
    "EPSILON_TIME = 100000\n",
    "\n",
    "BATCH_SIZE = 1\n",
    "BUFFER_SIZE = 100\n",
    "\n",
    "GAMMA =1# 0.999\n",
    "LEARNING_RATE = 1e-4"
   ]
  },
  {
   "cell_type": "markdown",
   "metadata": {},
   "source": [
    "### Creamos el ambiente que vamos a estar usando para el entrenamiento"
   ]
  },
  {
   "cell_type": "code",
   "execution_count": 42,
   "metadata": {
    "id": "BsTl-pFqt10b",
    "pycharm": {
     "name": "#%%\n"
    }
   },
   "outputs": [
    {
     "name": "stdout",
     "output_type": "stream",
     "text": [
      "Input dim: 4, Output dim: 2\n"
     ]
    }
   ],
   "source": [
    "env = gymnasium.make(ENV_NAME)\n",
    "input_dim = env.observation_space.shape[0]\n",
    "output_dim = env.action_space.n\n",
    "\n",
    "print(f\"Input dim: {input_dim}, Output dim: {output_dim}\")"
   ]
  },
  {
   "cell_type": "code",
   "execution_count": 43,
   "metadata": {},
   "outputs": [],
   "source": [
    "from actor_critic_models import ActorModel, CriticModel\n",
    "from actor_critic_agent import ActorCriticAgent\n",
    "\n",
    "actor = ActorModel(input_dim, output_dim).to(DEVICE)\n",
    "critic = CriticModel(input_dim).to(DEVICE)\n",
    "\n",
    "agent = ActorCriticAgent(env, actor, process_state, BUFFER_SIZE, BATCH_SIZE, \n",
    "                LEARNING_RATE, GAMMA, epsilon_i= EPSILON_INI, \n",
    "                epsilon_f=EPSILON_MIN, epsilon_anneal_time=EPSILON_TIME,\n",
    "                epsilon_decay = EPSILON_DECAY, episode_block = EPISODE_BLOCK, device=DEVICE, critic_model=critic)"
   ]
  },
  {
   "cell_type": "code",
   "execution_count": 44,
   "metadata": {},
   "outputs": [],
   "source": [
    "# from dqn_model import DQN_Model\n",
    "# from dqn_agent import DQNAgent\n",
    "# net = DQN_Model(input_dim, output_dim).to(DEVICE)\n",
    "\n",
    "# agent = DQNAgent(env, net, process_state, BUFFER_SIZE, BATCH_SIZE, \n",
    "#                 LEARNING_RATE, GAMMA, epsilon_i= EPSILON_INI, \n",
    "#                 epsilon_f=EPSILON_MIN, epsilon_anneal_time=EPSILON_TIME,\n",
    "#                 epsilon_decay = EPSILON_DECAY, episode_block = EPISODE_BLOCK, device=DEVICE, second_model_update=50)"
   ]
  },
  {
   "cell_type": "code",
   "execution_count": 45,
   "metadata": {},
   "outputs": [
    {
     "name": "stderr",
     "output_type": "stream",
     "text": [
      "  0%|          | 6/6000 [00:00<01:41, 58.82 episodes/s]"
     ]
    },
    {
     "name": "stdout",
     "output_type": "stream",
     "text": [
      "Episode 0 - Avg. Reward over the last 100 episodes 16.0 epsilon 0.9998650101244944 total steps 16\n"
     ]
    },
    {
     "name": "stderr",
     "output_type": "stream",
     "text": [
      "  2%|▏         | 112/6000 [00:02<01:44, 56.42 episodes/s]"
     ]
    },
    {
     "name": "stdout",
     "output_type": "stream",
     "text": [
      "Episode 100 - Avg. Reward over the last 100 episodes 22.11 epsilon 0.9801873330866654 total steps 2227\n"
     ]
    },
    {
     "name": "stderr",
     "output_type": "stream",
     "text": [
      "  3%|▎         | 208/6000 [00:03<01:46, 54.27 episodes/s]"
     ]
    },
    {
     "name": "stdout",
     "output_type": "stream",
     "text": [
      "Episode 200 - Avg. Reward over the last 100 episodes 23.34 epsilon 0.9598816498504008 total steps 4561\n"
     ]
    },
    {
     "name": "stderr",
     "output_type": "stream",
     "text": [
      "  5%|▌         | 307/6000 [00:05<01:55, 49.26 episodes/s]"
     ]
    },
    {
     "name": "stdout",
     "output_type": "stream",
     "text": [
      "Episode 300 - Avg. Reward over the last 100 episodes 20.53 epsilon 0.9424082576705551 total steps 6614\n"
     ]
    },
    {
     "name": "stderr",
     "output_type": "stream",
     "text": [
      "  7%|▋         | 409/6000 [00:07<01:31, 61.32 episodes/s]"
     ]
    },
    {
     "name": "stdout",
     "output_type": "stream",
     "text": [
      "Episode 400 - Avg. Reward over the last 100 episodes 21.11 epsilon 0.9248114075758773 total steps 8725\n"
     ]
    },
    {
     "name": "stderr",
     "output_type": "stream",
     "text": [
      "  8%|▊         | 507/6000 [00:09<01:40, 54.88 episodes/s]"
     ]
    },
    {
     "name": "stdout",
     "output_type": "stream",
     "text": [
      "Episode 500 - Avg. Reward over the last 100 episodes 19.63 epsilon 0.9087782400289921 total steps 10688\n"
     ]
    },
    {
     "name": "stderr",
     "output_type": "stream",
     "text": [
      " 10%|█         | 607/6000 [00:11<01:38, 54.60 episodes/s]"
     ]
    },
    {
     "name": "stdout",
     "output_type": "stream",
     "text": [
      "Episode 600 - Avg. Reward over the last 100 episodes 20.48 epsilon 0.8923829227758123 total steps 12736\n"
     ]
    },
    {
     "name": "stderr",
     "output_type": "stream",
     "text": [
      " 12%|█▏        | 708/6000 [00:13<01:32, 57.00 episodes/s]"
     ]
    },
    {
     "name": "stdout",
     "output_type": "stream",
     "text": [
      "Episode 700 - Avg. Reward over the last 100 episodes 20.62 epsilon 0.8762112894377552 total steps 14798\n"
     ]
    },
    {
     "name": "stderr",
     "output_type": "stream",
     "text": [
      " 13%|█▎        | 806/6000 [00:14<01:28, 58.46 episodes/s]"
     ]
    },
    {
     "name": "stdout",
     "output_type": "stream",
     "text": [
      "Episode 800 - Avg. Reward over the last 100 episodes 19.11 epsilon 0.861518726269022 total steps 16709\n"
     ]
    },
    {
     "name": "stderr",
     "output_type": "stream",
     "text": [
      " 15%|█▌        | 911/6000 [00:16<01:31, 55.55 episodes/s]"
     ]
    },
    {
     "name": "stdout",
     "output_type": "stream",
     "text": [
      "Episode 900 - Avg. Reward over the last 100 episodes 17.62 epsilon 0.8482182872872718 total steps 18471\n"
     ]
    },
    {
     "name": "stderr",
     "output_type": "stream",
     "text": [
      " 17%|█▋        | 1012/6000 [00:18<01:24, 58.74 episodes/s]"
     ]
    },
    {
     "name": "stdout",
     "output_type": "stream",
     "text": [
      "Episode 1000 - Avg. Reward over the last 100 episodes 18.39 epsilon 0.8345843017214173 total steps 20310\n"
     ]
    },
    {
     "name": "stderr",
     "output_type": "stream",
     "text": [
      " 18%|█▊        | 1106/6000 [00:19<01:27, 56.16 episodes/s]"
     ]
    },
    {
     "name": "stdout",
     "output_type": "stream",
     "text": [
      "Episode 1100 - Avg. Reward over the last 100 episodes 18.76 epsilon 0.8209319595857799 total steps 22186\n"
     ]
    },
    {
     "name": "stderr",
     "output_type": "stream",
     "text": [
      " 20%|██        | 1213/6000 [00:21<01:17, 62.02 episodes/s]"
     ]
    },
    {
     "name": "stdout",
     "output_type": "stream",
     "text": [
      "Episode 1200 - Avg. Reward over the last 100 episodes 18.17 epsilon 0.8079509158007643 total steps 24003\n"
     ]
    },
    {
     "name": "stderr",
     "output_type": "stream",
     "text": [
      " 22%|██▏       | 1313/6000 [00:23<01:14, 62.99 episodes/s]"
     ]
    },
    {
     "name": "stdout",
     "output_type": "stream",
     "text": [
      "Episode 1300 - Avg. Reward over the last 100 episodes 17.4 epsilon 0.795739120586291 total steps 25743\n"
     ]
    },
    {
     "name": "stderr",
     "output_type": "stream",
     "text": [
      " 24%|██▎       | 1410/6000 [00:25<01:18, 58.67 episodes/s]"
     ]
    },
    {
     "name": "stdout",
     "output_type": "stream",
     "text": [
      "Episode 1400 - Avg. Reward over the last 100 episodes 17.54 epsilon 0.7836422560466624 total steps 27497\n"
     ]
    },
    {
     "name": "stderr",
     "output_type": "stream",
     "text": [
      " 25%|██▌       | 1510/6000 [00:26<01:17, 58.28 episodes/s]"
     ]
    },
    {
     "name": "stdout",
     "output_type": "stream",
     "text": [
      "Episode 1500 - Avg. Reward over the last 100 episodes 17.5 epsilon 0.7717825912994207 total steps 29247\n"
     ]
    },
    {
     "name": "stderr",
     "output_type": "stream",
     "text": [
      " 27%|██▋       | 1606/6000 [00:28<01:13, 60.17 episodes/s]"
     ]
    },
    {
     "name": "stdout",
     "output_type": "stream",
     "text": [
      "Episode 1600 - Avg. Reward over the last 100 episodes 16.42 epsilon 0.7608419893054106 total steps 30889\n"
     ]
    },
    {
     "name": "stderr",
     "output_type": "stream",
     "text": [
      " 29%|██▊       | 1713/6000 [00:29<01:03, 67.61 episodes/s]"
     ]
    },
    {
     "name": "stdout",
     "output_type": "stream",
     "text": [
      "Episode 1700 - Avg. Reward over the last 100 episodes 15.54 epsilon 0.7506518869547667 total steps 32443\n"
     ]
    },
    {
     "name": "stderr",
     "output_type": "stream",
     "text": [
      " 30%|███       | 1816/6000 [00:31<01:02, 67.43 episodes/s]"
     ]
    },
    {
     "name": "stdout",
     "output_type": "stream",
     "text": [
      "Episode 1800 - Avg. Reward over the last 100 episodes 16.99 epsilon 0.7396906904303354 total steps 34142\n"
     ]
    },
    {
     "name": "stderr",
     "output_type": "stream",
     "text": [
      " 32%|███▏      | 1913/6000 [00:32<01:03, 64.40 episodes/s]"
     ]
    },
    {
     "name": "stdout",
     "output_type": "stream",
     "text": [
      "Episode 1900 - Avg. Reward over the last 100 episodes 15.54 epsilon 0.7298267385118283 total steps 35696\n"
     ]
    },
    {
     "name": "stderr",
     "output_type": "stream",
     "text": [
      " 33%|███▎      | 2007/6000 [00:34<01:02, 63.49 episodes/s]"
     ]
    },
    {
     "name": "stdout",
     "output_type": "stream",
     "text": [
      "Episode 2000 - Avg. Reward over the last 100 episodes 16.55 epsilon 0.7194888876677613 total steps 37351\n"
     ]
    },
    {
     "name": "stderr",
     "output_type": "stream",
     "text": [
      " 35%|███▌      | 2118/6000 [00:36<00:52, 73.97 episodes/s]"
     ]
    },
    {
     "name": "stdout",
     "output_type": "stream",
     "text": [
      "Episode 2100 - Avg. Reward over the last 100 episodes 15.04 epsilon 0.7102414895451924 total steps 38855\n"
     ]
    },
    {
     "name": "stderr",
     "output_type": "stream",
     "text": [
      " 37%|███▋      | 2208/6000 [00:37<00:58, 64.42 episodes/s]"
     ]
    },
    {
     "name": "stdout",
     "output_type": "stream",
     "text": [
      "Episode 2200 - Avg. Reward over the last 100 episodes 15.37 epsilon 0.7009337907505993 total steps 40392\n"
     ]
    },
    {
     "name": "stderr",
     "output_type": "stream",
     "text": [
      " 39%|███▊      | 2311/6000 [00:39<00:54, 68.27 episodes/s]"
     ]
    },
    {
     "name": "stdout",
     "output_type": "stream",
     "text": [
      "Episode 2300 - Avg. Reward over the last 100 episodes 14.86 epsilon 0.6920699361684328 total steps 41878\n"
     ]
    },
    {
     "name": "stderr",
     "output_type": "stream",
     "text": [
      " 40%|████      | 2409/6000 [00:40<01:00, 59.11 episodes/s]"
     ]
    },
    {
     "name": "stdout",
     "output_type": "stream",
     "text": [
      "Episode 2400 - Avg. Reward over the last 100 episodes 16.9 epsilon 0.6821480304986404 total steps 43568\n"
     ]
    },
    {
     "name": "stderr",
     "output_type": "stream",
     "text": [
      " 42%|████▏     | 2507/6000 [00:42<01:00, 58.13 episodes/s]"
     ]
    },
    {
     "name": "stdout",
     "output_type": "stream",
     "text": [
      "Episode 2500 - Avg. Reward over the last 100 episodes 17.37 epsilon 0.6721234348698528 total steps 45305\n"
     ]
    },
    {
     "name": "stderr",
     "output_type": "stream",
     "text": [
      " 44%|████▎     | 2611/6000 [00:43<00:51, 65.61 episodes/s]"
     ]
    },
    {
     "name": "stdout",
     "output_type": "stream",
     "text": [
      "Episode 2600 - Avg. Reward over the last 100 episodes 15.28 epsilon 0.6634478391328723 total steps 46833\n"
     ]
    },
    {
     "name": "stderr",
     "output_type": "stream",
     "text": [
      " 45%|████▌     | 2710/6000 [00:45<00:45, 71.99 episodes/s]"
     ]
    },
    {
     "name": "stdout",
     "output_type": "stream",
     "text": [
      "Episode 2700 - Avg. Reward over the last 100 episodes 14.97 epsilon 0.6550758456989655 total steps 48330\n"
     ]
    },
    {
     "name": "stderr",
     "output_type": "stream",
     "text": [
      " 47%|████▋     | 2812/6000 [00:46<00:48, 65.18 episodes/s]"
     ]
    },
    {
     "name": "stdout",
     "output_type": "stream",
     "text": [
      "Episode 2800 - Avg. Reward over the last 100 episodes 14.28 epsilon 0.6472056892779536 total steps 49758\n"
     ]
    },
    {
     "name": "stderr",
     "output_type": "stream",
     "text": [
      " 49%|████▊     | 2915/6000 [00:48<00:42, 72.31 episodes/s]"
     ]
    },
    {
     "name": "stdout",
     "output_type": "stream",
     "text": [
      "Episode 2900 - Avg. Reward over the last 100 episodes 15.36 epsilon 0.6388648316644425 total steps 51294\n"
     ]
    },
    {
     "name": "stderr",
     "output_type": "stream",
     "text": [
      " 50%|█████     | 3010/6000 [00:49<00:41, 71.69 episodes/s]"
     ]
    },
    {
     "name": "stdout",
     "output_type": "stream",
     "text": [
      "Episode 3000 - Avg. Reward over the last 100 episodes 13.83 epsilon 0.6314636283315628 total steps 52677\n"
     ]
    },
    {
     "name": "stderr",
     "output_type": "stream",
     "text": [
      " 52%|█████▏    | 3113/6000 [00:51<00:43, 66.38 episodes/s]"
     ]
    },
    {
     "name": "stdout",
     "output_type": "stream",
     "text": [
      "Episode 3100 - Avg. Reward over the last 100 episodes 15.14 epsilon 0.6234778737015824 total steps 54191\n"
     ]
    },
    {
     "name": "stderr",
     "output_type": "stream",
     "text": [
      " 53%|█████▎    | 3209/6000 [00:52<00:42, 65.16 episodes/s]"
     ]
    },
    {
     "name": "stdout",
     "output_type": "stream",
     "text": [
      "Episode 3200 - Avg. Reward over the last 100 episodes 14.71 epsilon 0.6158338736361241 total steps 55662\n"
     ]
    },
    {
     "name": "stderr",
     "output_type": "stream",
     "text": [
      " 55%|█████▌    | 3312/6000 [00:54<00:41, 65.51 episodes/s]"
     ]
    },
    {
     "name": "stdout",
     "output_type": "stream",
     "text": [
      "Episode 3300 - Avg. Reward over the last 100 episodes 14.16 epsilon 0.6085811365481807 total steps 57078\n"
     ]
    },
    {
     "name": "stderr",
     "output_type": "stream",
     "text": [
      " 57%|█████▋    | 3415/6000 [00:55<00:35, 73.10 episodes/s]"
     ]
    },
    {
     "name": "stdout",
     "output_type": "stream",
     "text": [
      "Episode 3400 - Avg. Reward over the last 100 episodes 14.59 epsilon 0.60121480581958 total steps 58537\n"
     ]
    },
    {
     "name": "stderr",
     "output_type": "stream",
     "text": [
      " 58%|█████▊    | 3510/6000 [00:57<00:36, 67.99 episodes/s]"
     ]
    },
    {
     "name": "stdout",
     "output_type": "stream",
     "text": [
      "Episode 3500 - Avg. Reward over the last 100 episodes 13.97 epsilon 0.5942615167899947 total steps 59934\n"
     ]
    },
    {
     "name": "stderr",
     "output_type": "stream",
     "text": [
      " 60%|██████    | 3610/6000 [00:58<00:34, 69.82 episodes/s]"
     ]
    },
    {
     "name": "stdout",
     "output_type": "stream",
     "text": [
      "Episode 3600 - Avg. Reward over the last 100 episodes 14.1 epsilon 0.5873413313603584 total steps 61344\n"
     ]
    },
    {
     "name": "stderr",
     "output_type": "stream",
     "text": [
      " 62%|██████▏   | 3710/6000 [01:00<00:32, 71.27 episodes/s]"
     ]
    },
    {
     "name": "stdout",
     "output_type": "stream",
     "text": [
      "Episode 3700 - Avg. Reward over the last 100 episodes 15.07 epsilon 0.5800521593578641 total steps 62851\n"
     ]
    },
    {
     "name": "stderr",
     "output_type": "stream",
     "text": [
      " 63%|██████▎   | 3807/6000 [01:01<00:30, 72.45 episodes/s]"
     ]
    },
    {
     "name": "stdout",
     "output_type": "stream",
     "text": [
      "Episode 3800 - Avg. Reward over the last 100 episodes 13.28 epsilon 0.5737192105339314 total steps 64179\n"
     ]
    },
    {
     "name": "stderr",
     "output_type": "stream",
     "text": [
      " 65%|██████▌   | 3913/6000 [01:03<00:32, 63.95 episodes/s]"
     ]
    },
    {
     "name": "stdout",
     "output_type": "stream",
     "text": [
      "Episode 3900 - Avg. Reward over the last 100 episodes 14.49 epsilon 0.5669045109062953 total steps 65628\n"
     ]
    },
    {
     "name": "stderr",
     "output_type": "stream",
     "text": [
      " 67%|██████▋   | 4010/6000 [01:04<00:27, 72.83 episodes/s]"
     ]
    },
    {
     "name": "stdout",
     "output_type": "stream",
     "text": [
      "Episode 4000 - Avg. Reward over the last 100 episodes 13.71 epsilon 0.5605469308558008 total steps 66999\n"
     ]
    },
    {
     "name": "stderr",
     "output_type": "stream",
     "text": [
      " 69%|██████▊   | 4113/6000 [01:06<00:27, 69.29 episodes/s]"
     ]
    },
    {
     "name": "stdout",
     "output_type": "stream",
     "text": [
      "Episode 4100 - Avg. Reward over the last 100 episodes 13.38 epsilon 0.5544258542417592 total steps 68337\n"
     ]
    },
    {
     "name": "stderr",
     "output_type": "stream",
     "text": [
      " 70%|███████   | 4210/6000 [01:07<00:23, 75.02 episodes/s]"
     ]
    },
    {
     "name": "stdout",
     "output_type": "stream",
     "text": [
      "Episode 4200 - Avg. Reward over the last 100 episodes 13.23 epsilon 0.5484533951217294 total steps 69660\n"
     ]
    },
    {
     "name": "stderr",
     "output_type": "stream",
     "text": [
      " 72%|███████▏  | 4308/6000 [01:08<00:23, 71.57 episodes/s]"
     ]
    },
    {
     "name": "stdout",
     "output_type": "stream",
     "text": [
      "Episode 4300 - Avg. Reward over the last 100 episodes 13.37 epsilon 0.5424974772613955 total steps 70997\n"
     ]
    },
    {
     "name": "stderr",
     "output_type": "stream",
     "text": [
      " 74%|███████▎  | 4413/6000 [01:10<00:22, 70.28 episodes/s]"
     ]
    },
    {
     "name": "stdout",
     "output_type": "stream",
     "text": [
      "Episode 4400 - Avg. Reward over the last 100 episodes 13.35 epsilon 0.5366293925571848 total steps 72332\n"
     ]
    },
    {
     "name": "stderr",
     "output_type": "stream",
     "text": [
      " 75%|███████▌  | 4512/6000 [01:11<00:19, 74.51 episodes/s]"
     ]
    },
    {
     "name": "stdout",
     "output_type": "stream",
     "text": [
      "Episode 4500 - Avg. Reward over the last 100 episodes 13.45 epsilon 0.5307960444321314 total steps 73677\n"
     ]
    },
    {
     "name": "stderr",
     "output_type": "stream",
     "text": [
      " 77%|███████▋  | 4608/6000 [01:12<00:20, 68.23 episodes/s]"
     ]
    },
    {
     "name": "stdout",
     "output_type": "stream",
     "text": [
      "Episode 4600 - Avg. Reward over the last 100 episodes 13.03 epsilon 0.5252191841216027 total steps 74980\n"
     ]
    },
    {
     "name": "stderr",
     "output_type": "stream",
     "text": [
      " 79%|███████▊  | 4713/6000 [01:14<00:16, 76.45 episodes/s]"
     ]
    },
    {
     "name": "stdout",
     "output_type": "stream",
     "text": [
      "Episode 4700 - Avg. Reward over the last 100 episodes 13.42 epsilon 0.5195508621810471 total steps 76322\n"
     ]
    },
    {
     "name": "stderr",
     "output_type": "stream",
     "text": [
      " 80%|████████  | 4811/6000 [01:15<00:16, 73.11 episodes/s]"
     ]
    },
    {
     "name": "stdout",
     "output_type": "stream",
     "text": [
      "Episode 4800 - Avg. Reward over the last 100 episodes 13.03 epsilon 0.51411957611938 total steps 77625\n"
     ]
    },
    {
     "name": "stderr",
     "output_type": "stream",
     "text": [
      " 82%|████████▏ | 4912/6000 [01:17<00:16, 65.06 episodes/s]"
     ]
    },
    {
     "name": "stdout",
     "output_type": "stream",
     "text": [
      "Episode 4900 - Avg. Reward over the last 100 episodes 12.86 epsilon 0.5088280955158341 total steps 78911\n"
     ]
    },
    {
     "name": "stderr",
     "output_type": "stream",
     "text": [
      " 84%|████████▎ | 5010/6000 [01:18<00:13, 70.76 episodes/s]"
     ]
    },
    {
     "name": "stdout",
     "output_type": "stream",
     "text": [
      "Episode 5000 - Avg. Reward over the last 100 episodes 12.86 epsilon 0.5036042276709993 total steps 80197\n"
     ]
    },
    {
     "name": "stderr",
     "output_type": "stream",
     "text": [
      " 85%|████████▌ | 5109/6000 [01:19<00:12, 72.21 episodes/s]"
     ]
    },
    {
     "name": "stdout",
     "output_type": "stream",
     "text": [
      "Episode 5100 - Avg. Reward over the last 100 episodes 13.14 epsilon 0.4983355590790417 total steps 81511\n"
     ]
    },
    {
     "name": "stderr",
     "output_type": "stream",
     "text": [
      " 87%|████████▋ | 5212/6000 [01:21<00:10, 78.60 episodes/s]"
     ]
    },
    {
     "name": "stdout",
     "output_type": "stream",
     "text": [
      "Episode 5200 - Avg. Reward over the last 100 episodes 12.08 epsilon 0.49355261268464834 total steps 82719\n"
     ]
    },
    {
     "name": "stderr",
     "output_type": "stream",
     "text": [
      " 88%|████████▊ | 5309/6000 [01:22<00:09, 71.12 episodes/s]"
     ]
    },
    {
     "name": "stdout",
     "output_type": "stream",
     "text": [
      "Episode 5300 - Avg. Reward over the last 100 episodes 13.29 epsilon 0.48835690044370883 total steps 84048\n"
     ]
    },
    {
     "name": "stderr",
     "output_type": "stream",
     "text": [
      " 90%|█████████ | 5413/6000 [01:24<00:07, 73.65 episodes/s]"
     ]
    },
    {
     "name": "stdout",
     "output_type": "stream",
     "text": [
      "Episode 5400 - Avg. Reward over the last 100 episodes 13.07 epsilon 0.4833141022273637 total steps 85355\n"
     ]
    },
    {
     "name": "stderr",
     "output_type": "stream",
     "text": [
      " 92%|█████████▏| 5516/6000 [01:25<00:06, 78.96 episodes/s]"
     ]
    },
    {
     "name": "stdout",
     "output_type": "stream",
     "text": [
      "Episode 5500 - Avg. Reward over the last 100 episodes 11.9 epsilon 0.4787796976278723 total steps 86545\n"
     ]
    },
    {
     "name": "stderr",
     "output_type": "stream",
     "text": [
      " 94%|█████████▎| 5614/6000 [01:26<00:05, 74.87 episodes/s]"
     ]
    },
    {
     "name": "stdout",
     "output_type": "stream",
     "text": [
      "Episode 5600 - Avg. Reward over the last 100 episodes 12.26 epsilon 0.47416420929025493 total steps 87771\n"
     ]
    },
    {
     "name": "stderr",
     "output_type": "stream",
     "text": [
      " 95%|█████████▌| 5707/6000 [01:27<00:04, 72.81 episodes/s]"
     ]
    },
    {
     "name": "stdout",
     "output_type": "stream",
     "text": [
      "Episode 5700 - Avg. Reward over the last 100 episodes 12.71 epsilon 0.46943867656565186 total steps 89042\n"
     ]
    },
    {
     "name": "stderr",
     "output_type": "stream",
     "text": [
      " 97%|█████████▋| 5812/6000 [01:29<00:02, 74.35 episodes/s]"
     ]
    },
    {
     "name": "stdout",
     "output_type": "stream",
     "text": [
      "Episode 5800 - Avg. Reward over the last 100 episodes 13.1 epsilon 0.4646305916184924 total steps 90352\n"
     ]
    },
    {
     "name": "stderr",
     "output_type": "stream",
     "text": [
      " 98%|█████████▊| 5910/6000 [01:30<00:01, 67.88 episodes/s]"
     ]
    },
    {
     "name": "stdout",
     "output_type": "stream",
     "text": [
      "Episode 5900 - Avg. Reward over the last 100 episodes 11.91 epsilon 0.46031359998713495 total steps 91543\n"
     ]
    },
    {
     "name": "stderr",
     "output_type": "stream",
     "text": [
      "100%|██████████| 6000/6000 [01:31<00:00, 65.30 episodes/s]"
     ]
    },
    {
     "name": "stdout",
     "output_type": "stream",
     "text": [
      "Episode 6000 - Avg. Reward over the last 100 episodes 12.62 epsilon 0.45584127095826477 total steps 92792\n"
     ]
    },
    {
     "name": "stderr",
     "output_type": "stream",
     "text": [
      "\n"
     ]
    }
   ],
   "source": [
    "rewards = agent.train(EPISODES, STEPS, TOTAL_STEPS, writer_name = ENV_NAME)"
   ]
  },
  {
   "cell_type": "markdown",
   "metadata": {},
   "source": [
    "### Graficamos las recompensas obtenidas durante el entrenamiento "
   ]
  },
  {
   "cell_type": "code",
   "execution_count": 46,
   "metadata": {},
   "outputs": [
    {
     "data": {
      "text/plain": [
       "[<matplotlib.lines.Line2D at 0x16e8109e110>]"
      ]
     },
     "execution_count": 46,
     "metadata": {},
     "output_type": "execute_result"
    },
    {
     "data": {
      "image/png": "[encoded data removed]",
      "text/plain": [
       "<Figure size 640x480 with 1 Axes>"
      ]
     },
     "metadata": {},
     "output_type": "display_data"
    }
   ],
   "source": [
    "import matplotlib.pyplot as plt\n",
    "\n",
    "average_range = EPISODE_BLOCK\n",
    "episode_ticks = int(len(rewards) / average_range)\n",
    "\n",
    "avg_rewards = np.array(rewards).reshape((episode_ticks, average_range))\n",
    "avg_rewards = np.mean(avg_rewards, axis=1)\n",
    "\n",
    "plt.plot(range(len(avg_rewards)), avg_rewards)"
   ]
  },
  {
   "cell_type": "markdown",
   "metadata": {},
   "source": [
    "### Creamos un video para ver la performance del agente"
   ]
  },
  {
   "cell_type": "code",
   "execution_count": 47,
   "metadata": {},
   "outputs": [],
   "source": [
    "import glob\n",
    "from gymnasium.wrappers.record_video import RecordVideo\n",
    "from IPython.display import HTML\n",
    "from IPython import display as ipythondisplay\n",
    "import io\n",
    "import base64\n",
    "\n",
    "def show_video():\n",
    "  \"\"\"\n",
    "  Utility function to enable video recording of gym environment and displaying it\n",
    "  To enable video, just do \"env = wrap_env(env)\"\"\n",
    "  \"\"\"\n",
    "  mp4list = glob.glob('./videos/*.mp4')\n",
    "  if len(mp4list) > 0:\n",
    "    mp4 = mp4list[0]\n",
    "    video = io.open(mp4, 'r+b').read()\n",
    "    encoded = base64.b64encode(video)\n",
    "    ipythondisplay.display(HTML(data='''<video alt=\"test\" autoplay\n",
    "                loop controls style=\"height: 400px;\">\n",
    "                <source src=\"data:video/mp4;base64,{0}\" type=\"video/mp4\" />\n",
    "             </video>'''.format(encoded.decode('ascii'))))\n",
    "  else:\n",
    "    print(\"Could not find video\")\n",
    "\n",
    "\n",
    "def wrap_env(env):\n",
    "  \"\"\"\n",
    "  Wrapper del ambiente donde definimos un Monitor que guarda la visualizacion como un archivo de video.\n",
    "  \"\"\"\n",
    "\n",
    "  #env = Monitor(env, './video', force=True)\n",
    "  env = RecordVideo(env,video_folder='./videos')\n",
    "  return env"
   ]
  },
  {
   "cell_type": "code",
   "execution_count": 48,
   "metadata": {},
   "outputs": [
    {
     "name": "stdout",
     "output_type": "stream",
     "text": [
      "Moviepy - Building video c:\\Users\\juan1\\OneDrive\\Desktop\\letra\\videos\\rl-video-episode-0.mp4.\n",
      "Moviepy - Writing video c:\\Users\\juan1\\OneDrive\\Desktop\\letra\\videos\\rl-video-episode-0.mp4\n",
      "\n"
     ]
    },
    {
     "name": "stderr",
     "output_type": "stream",
     "text": [
      "                                                   "
     ]
    },
    {
     "name": "stdout",
     "output_type": "stream",
     "text": [
      "Moviepy - Done !\n",
      "Moviepy - video ready c:\\Users\\juan1\\OneDrive\\Desktop\\letra\\videos\\rl-video-episode-0.mp4\n"
     ]
    },
    {
     "name": "stderr",
     "output_type": "stream",
     "text": [
      "\r"
     ]
    },
    {
     "data": {
      "text/html": [
       "<video alt=\"test\" autoplay\n",
       "                loop controls style=\"height: 400px;\">\n",
       "                <source src=\"data:video/mp4;base64,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\" type=\"video/mp4\" />\n",
       "             </video>"
      ],
      "text/plain": [
       "<IPython.core.display.HTML object>"
      ]
     },
     "metadata": {},
     "output_type": "display_data"
    }
   ],
   "source": [
    "env = wrap_env(gymnasium.make(ENV_NAME, render_mode=\"rgb_array\"))\n",
    "observation,_ = env.reset()\n",
    "\n",
    "while True:\n",
    "    env.render()\n",
    "\n",
    "    action = agent.select_action(process_state(observation, DEVICE), train=False)\n",
    "    observation, reward, done, truncated, _ = env.step(action.item())\n",
    "\n",
    "    if done or truncated:\n",
    "      break\n",
    "\n",
    "# Cerramos la conexion con el Monitor de ambiente y mostramos el video.\n",
    "env.close()\n",
    "show_video()\n",
    "\n",
    "del env"
   ]
  }
 ],
 "metadata": {
  "accelerator": "GPU",
  "colab": {
   "provenance": []
  },
  "interpreter": {
   "hash": "81794d4967e6c3204c66dcd87b604927b115b27c00565d3d43f05ba2f3a2cb0d"
  },
  "kernelspec": {
   "display_name": "Python 3",
   "language": "python",
   "name": "python3"
  },
  "language_info": {
   "codemirror_mode": {
    "name": "ipython",
    "version": 3
   },
   "file_extension": ".py",
   "mimetype": "text/x-python",
   "name": "python",
   "nbconvert_exporter": "python",
   "pygments_lexer": "ipython3",
   "version": "3.10.13"
  }
 },
 "nbformat": 4,
 "nbformat_minor": 1
}
