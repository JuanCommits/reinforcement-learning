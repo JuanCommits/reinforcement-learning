{
 "cells": [
  {
   "cell_type": "markdown",
   "metadata": {},
   "source": [
    "## DQN sobre ambientes de Classic Control"
   ]
  },
  {
   "cell_type": "markdown",
   "metadata": {},
   "source": [
    "https://gymnasium.farama.org/environments/classic_control/"
   ]
  },
  {
   "cell_type": "markdown",
   "metadata": {
    "id": "gc6t9etEt9I2",
    "pycharm": {
     "name": "#%%\n"
    }
   },
   "source": [
    "### Imports"
   ]
  },
  {
   "cell_type": "code",
   "execution_count": 2,
   "metadata": {
    "id": "cwHCw6PMt9I3",
    "pycharm": {
     "name": "#%%\n"
    }
   },
   "outputs": [],
   "source": [
    "import torch\n",
    "import numpy as np\n",
    "import random\n",
    "import numpy as np\n",
    "import gymnasium"
   ]
  },
  {
   "cell_type": "markdown",
   "metadata": {
    "id": "ySRyzNz8t9I3"
   },
   "source": [
    "### Seteamos los devices"
   ]
  },
  {
   "cell_type": "code",
   "execution_count": 3,
   "metadata": {
    "colab": {
     "base_uri": "https://localhost:8080/"
    },
    "id": "8zcyB176t9I3",
    "outputId": "4239691d-04a7-47de-9898-ee53cf047a8c"
   },
   "outputs": [
    {
     "name": "stdout",
     "output_type": "stream",
     "text": [
      "Running on cuda:0\n",
      "Cuda Available: True\n"
     ]
    }
   ],
   "source": [
    "DEVICE = torch.device('cuda:0' if torch.cuda.is_available() else 'cpu')\n",
    "print(f\"Running on {DEVICE}\")\n",
    "print(\"Cuda Available:\", torch.cuda.is_available())"
   ]
  },
  {
   "cell_type": "markdown",
   "metadata": {
    "id": "xcfjdDuQt9I4"
   },
   "source": [
    "### Seteo de seeds\n",
    "Siempre es buena práctica hacer el seteo de seeds para la reproducibilidad de los experimentos"
   ]
  },
  {
   "cell_type": "code",
   "execution_count": 4,
   "metadata": {
    "id": "bxW_5r15t9I5"
   },
   "outputs": [],
   "source": [
    "random.seed(42)\n",
    "np.random.seed(42)\n",
    "torch.manual_seed(42)\n",
    "torch.backends.cudnn.deterministic = True"
   ]
  },
  {
   "cell_type": "markdown",
   "metadata": {
    "id": "2bYVG_TKt9I5"
   },
   "source": [
    "### Creamos el ambiente y probamos algunas de sus funciones.\n",
    "\n",
    "En este caso elegimos el CartPole pero pueden cambiarlo en la variable *ENV_NAME*.\n",
    "El ambiente CartPole tiene la ventaja de que las recompensas son positivas y es mas fácil propagar estas hacia los estados iniciales. Mountain Car tiene como recompensa -1 por cada paso que damos y esta limitado a 200 pasos."
   ]
  },
  {
   "cell_type": "code",
   "execution_count": 5,
   "metadata": {
    "colab": {
     "base_uri": "https://localhost:8080/"
    },
    "id": "loVxQPrwt9I5",
    "outputId": "18b7ed97-88dd-4b1e-a2cc-b2636686bfc7"
   },
   "outputs": [
    {
     "name": "stdout",
     "output_type": "stream",
     "text": [
      "Actions # Discrete(2)\n",
      "(4,)\n",
      "(4,),\n",
      " 1.0,\n",
      " False,\n",
      " {}\n"
     ]
    }
   ],
   "source": [
    "ENVS = [\"MountainCar-v0\", \"CartPole-v1\", \"Acrobot-v1\"]\n",
    "ENV_NAME = ENVS[1]\n",
    "\n",
    "env = gymnasium.make(ENV_NAME, render_mode=\"rgb_array\")\n",
    "\n",
    "print(\"Actions #\",env.action_space)\n",
    "print(env.observation_space.shape)\n",
    "env.reset()\n",
    "next_state, reward, terminated, truncated, info = env.step(action=0)\n",
    "\n",
    "print(f\"{next_state.shape},\\n {reward},\\n {terminated},\\n {info}\")"
   ]
  },
  {
   "cell_type": "markdown",
   "metadata": {},
   "source": [
    "### Seteamos los hyperparámetros"
   ]
  },
  {
   "cell_type": "code",
   "execution_count": 6,
   "metadata": {
    "id": "oegpMg25t9I9",
    "pycharm": {
     "name": "#%%\n"
    }
   },
   "outputs": [],
   "source": [
    "def process_state(obs, device):\n",
    "    return torch.tensor(obs, device=device).unsqueeze(0)\n",
    "\n",
    "#Hiperparámetros de entrenamiento del agente DQN\n",
    "TOTAL_STEPS = 1000000\n",
    "EPISODES = 1000\n",
    "STEPS = 300\n",
    "\n",
    "EPSILON_INI = .9\n",
    "EPSILON_MIN = 0.05\n",
    "EPSILON_DECAY = 50000\n",
    "EPISODE_BLOCK = 100\n",
    "EPSILON_TIME = 100000\n",
    "\n",
    "BATCH_SIZE = 128\n",
    "BUFFER_SIZE = 10000\n",
    "\n",
    "GAMMA = 0.99\n",
    "LEARNING_RATE = 0.0001\n",
    "ACTOR_LR = 0.00001"
   ]
  },
  {
   "cell_type": "markdown",
   "metadata": {},
   "source": [
    "### Creamos el ambiente que vamos a estar usando para el entrenamiento"
   ]
  },
  {
   "cell_type": "code",
   "execution_count": 7,
   "metadata": {
    "id": "BsTl-pFqt10b",
    "pycharm": {
     "name": "#%%\n"
    }
   },
   "outputs": [
    {
     "name": "stdout",
     "output_type": "stream",
     "text": [
      "Input dim: 4, Output dim: 2\n"
     ]
    }
   ],
   "source": [
    "env = gymnasium.make(ENV_NAME)\n",
    "input_dim = env.observation_space.shape[0]\n",
    "output_dim = env.action_space.n\n",
    "\n",
    "print(f\"Input dim: {input_dim}, Output dim: {output_dim}\")"
   ]
  },
  {
   "cell_type": "code",
   "execution_count": 13,
   "metadata": {},
   "outputs": [],
   "source": [
    "import utils\n",
    "env = utils.make_env(ENV_NAME, render_mode='rgb_array')"
   ]
  },
  {
   "cell_type": "code",
   "execution_count": 14,
   "metadata": {},
   "outputs": [],
   "source": [
    "from actor_critic_models import ActorModel, CriticModel\n",
    "from actor_critic_agent import ActorCriticAgent\n",
    "\n",
    "actor = ActorModel(input_dim, output_dim).to(DEVICE)\n",
    "critic = CriticModel(input_dim).to(DEVICE)\n",
    "\n",
    "agent = ActorCriticAgent(env, actor, process_state, BUFFER_SIZE, BATCH_SIZE, LEARNING_RATE,\n",
    "                          GAMMA, actor_lr=ACTOR_LR, epsilon_i= EPSILON_INI, epsilon_f=EPSILON_MIN,\n",
    "                            epsilon_decay = EPSILON_DECAY, episode_block = EPISODE_BLOCK,\n",
    "                              device=DEVICE, critic_model=critic)"
   ]
  },
  {
   "cell_type": "code",
   "execution_count": null,
   "metadata": {},
   "outputs": [],
   "source": [
    "# from dqn_model import DQN_Model\n",
    "# from dqn_agent import DQNAgent\n",
    "# net = DQN_Model(input_dim, output_dim).to(DEVICE)\n",
    "\n",
    "# agent = DQNAgent(env, net, process_state, BUFFER_SIZE, BATCH_SIZE, \n",
    "#                 LEARNING_RATE, GAMMA, epsilon_i= EPSILON_INI, \n",
    "#                 epsilon_f=EPSILON_MIN, epsilon_anneal_time=EPSILON_TIME,\n",
    "#                 epsilon_decay = EPSILON_DECAY, episode_block = EPISODE_BLOCK, device=DEVICE, second_model_update=300)"
   ]
  },
  {
   "cell_type": "code",
   "execution_count": null,
   "metadata": {},
   "outputs": [],
   "source": [
    "# from dqn_model import DQN_Model\n",
    "# from double_dqn_agent import DoubleDQNAgent\n",
    "# net = DQN_Model(input_dim, output_dim).to(DEVICE)\n",
    "# net2 = DQN_Model(input_dim, output_dim).to(DEVICE)\n",
    "\n",
    "# agent = DoubleDQNAgent(env, net, net2, process_state, BUFFER_SIZE, BATCH_SIZE, \n",
    "#                 LEARNING_RATE, GAMMA, epsilon_i= EPSILON_INI, epsilon_f=EPSILON_MIN, \n",
    "#                 epsilon_decay = EPSILON_DECAY, episode_block = EPISODE_BLOCK, device=DEVICE)"
   ]
  },
  {
   "cell_type": "code",
   "execution_count": 16,
   "metadata": {},
   "outputs": [
    {
     "name": "stderr",
     "output_type": "stream",
     "text": [
      "  0%|          | 0/1000 [00:00<?, ?episode/s]\n"
     ]
    },
    {
     "ename": "ValueError",
     "evalue": "axes don't match array",
     "output_type": "error",
     "traceback": [
      "\u001b[1;31m---------------------------------------------------------------------------\u001b[0m",
      "\u001b[1;31mValueError\u001b[0m                                Traceback (most recent call last)",
      "Cell \u001b[1;32mIn[16], line 1\u001b[0m\n\u001b[1;32m----> 1\u001b[0m rewards \u001b[38;5;241m=\u001b[39m \u001b[43magent\u001b[49m\u001b[38;5;241;43m.\u001b[39;49m\u001b[43mtrain\u001b[49m\u001b[43m(\u001b[49m\u001b[43mEPISODES\u001b[49m\u001b[43m,\u001b[49m\u001b[43m \u001b[49m\u001b[43mTOTAL_STEPS\u001b[49m\u001b[43m,\u001b[49m\u001b[43m \u001b[49m\u001b[43muse_wandb\u001b[49m\u001b[38;5;241;43m=\u001b[39;49m\u001b[38;5;28;43;01mFalse\u001b[39;49;00m\u001b[43m)\u001b[49m\n",
      "File \u001b[1;32me:\\Juan\\Ort\\Master\\Taller de IA\\reinforcement-learning\\Atari\\abstract_agent.py:61\u001b[0m, in \u001b[0;36mAgent.train\u001b[1;34m(self, number_episodes, max_steps, use_wandb)\u001b[0m\n\u001b[0;32m     58\u001b[0m \u001b[38;5;28;01mif\u001b[39;00m total_steps \u001b[38;5;241m>\u001b[39m max_steps:\n\u001b[0;32m     59\u001b[0m     \u001b[38;5;28;01mbreak\u001b[39;00m\n\u001b[1;32m---> 61\u001b[0m obs, _ \u001b[38;5;241m=\u001b[39m \u001b[38;5;28;43mself\u001b[39;49m\u001b[38;5;241;43m.\u001b[39;49m\u001b[43menv\u001b[49m\u001b[38;5;241;43m.\u001b[39;49m\u001b[43mreset\u001b[49m\u001b[43m(\u001b[49m\u001b[43m)\u001b[49m\n\u001b[0;32m     62\u001b[0m state \u001b[38;5;241m=\u001b[39m \u001b[38;5;28mself\u001b[39m\u001b[38;5;241m.\u001b[39mstate_processing_function(obs, \u001b[38;5;28mself\u001b[39m\u001b[38;5;241m.\u001b[39mdevice)\n\u001b[0;32m     63\u001b[0m current_episode_reward \u001b[38;5;241m=\u001b[39m \u001b[38;5;241m0.0\u001b[39m\n",
      "File \u001b[1;32me:\\Downloads\\Programs\\conda\\envs\\TorchImage\\lib\\site-packages\\gymnasium\\wrappers\\frame_stack.py:192\u001b[0m, in \u001b[0;36mFrameStack.reset\u001b[1;34m(self, **kwargs)\u001b[0m\n\u001b[0;32m    183\u001b[0m \u001b[38;5;28;01mdef\u001b[39;00m \u001b[38;5;21mreset\u001b[39m(\u001b[38;5;28mself\u001b[39m, \u001b[38;5;241m*\u001b[39m\u001b[38;5;241m*\u001b[39mkwargs):\n\u001b[0;32m    184\u001b[0m \u001b[38;5;250m    \u001b[39m\u001b[38;5;124;03m\"\"\"Reset the environment with kwargs.\u001b[39;00m\n\u001b[0;32m    185\u001b[0m \n\u001b[0;32m    186\u001b[0m \u001b[38;5;124;03m    Args:\u001b[39;00m\n\u001b[1;32m   (...)\u001b[0m\n\u001b[0;32m    190\u001b[0m \u001b[38;5;124;03m        The stacked observations\u001b[39;00m\n\u001b[0;32m    191\u001b[0m \u001b[38;5;124;03m    \"\"\"\u001b[39;00m\n\u001b[1;32m--> 192\u001b[0m     obs, info \u001b[38;5;241m=\u001b[39m \u001b[38;5;28mself\u001b[39m\u001b[38;5;241m.\u001b[39menv\u001b[38;5;241m.\u001b[39mreset(\u001b[38;5;241m*\u001b[39m\u001b[38;5;241m*\u001b[39mkwargs)\n\u001b[0;32m    194\u001b[0m     [\u001b[38;5;28mself\u001b[39m\u001b[38;5;241m.\u001b[39mframes\u001b[38;5;241m.\u001b[39mappend(obs) \u001b[38;5;28;01mfor\u001b[39;00m _ \u001b[38;5;129;01min\u001b[39;00m \u001b[38;5;28mrange\u001b[39m(\u001b[38;5;28mself\u001b[39m\u001b[38;5;241m.\u001b[39mnum_stack)]\n\u001b[0;32m    196\u001b[0m     \u001b[38;5;28;01mreturn\u001b[39;00m \u001b[38;5;28mself\u001b[39m\u001b[38;5;241m.\u001b[39mobservation(\u001b[38;5;28;01mNone\u001b[39;00m), info\n",
      "File \u001b[1;32me:\\Downloads\\Programs\\conda\\envs\\TorchImage\\lib\\site-packages\\gymnasium\\core.py:515\u001b[0m, in \u001b[0;36mObservationWrapper.reset\u001b[1;34m(self, seed, options)\u001b[0m\n\u001b[0;32m    511\u001b[0m \u001b[38;5;28;01mdef\u001b[39;00m \u001b[38;5;21mreset\u001b[39m(\n\u001b[0;32m    512\u001b[0m     \u001b[38;5;28mself\u001b[39m, \u001b[38;5;241m*\u001b[39m, seed: \u001b[38;5;28mint\u001b[39m \u001b[38;5;241m|\u001b[39m \u001b[38;5;28;01mNone\u001b[39;00m \u001b[38;5;241m=\u001b[39m \u001b[38;5;28;01mNone\u001b[39;00m, options: \u001b[38;5;28mdict\u001b[39m[\u001b[38;5;28mstr\u001b[39m, Any] \u001b[38;5;241m|\u001b[39m \u001b[38;5;28;01mNone\u001b[39;00m \u001b[38;5;241m=\u001b[39m \u001b[38;5;28;01mNone\u001b[39;00m\n\u001b[0;32m    513\u001b[0m ) \u001b[38;5;241m-\u001b[39m\u001b[38;5;241m>\u001b[39m \u001b[38;5;28mtuple\u001b[39m[WrapperObsType, \u001b[38;5;28mdict\u001b[39m[\u001b[38;5;28mstr\u001b[39m, Any]]:\n\u001b[0;32m    514\u001b[0m \u001b[38;5;250m    \u001b[39m\u001b[38;5;124;03m\"\"\"Modifies the :attr:`env` after calling :meth:`reset`, returning a modified observation using :meth:`self.observation`.\"\"\"\u001b[39;00m\n\u001b[1;32m--> 515\u001b[0m     obs, info \u001b[38;5;241m=\u001b[39m \u001b[38;5;28;43mself\u001b[39;49m\u001b[38;5;241;43m.\u001b[39;49m\u001b[43menv\u001b[49m\u001b[38;5;241;43m.\u001b[39;49m\u001b[43mreset\u001b[49m\u001b[43m(\u001b[49m\u001b[43mseed\u001b[49m\u001b[38;5;241;43m=\u001b[39;49m\u001b[43mseed\u001b[49m\u001b[43m,\u001b[49m\u001b[43m \u001b[49m\u001b[43moptions\u001b[49m\u001b[38;5;241;43m=\u001b[39;49m\u001b[43moptions\u001b[49m\u001b[43m)\u001b[49m\n\u001b[0;32m    516\u001b[0m     \u001b[38;5;28;01mreturn\u001b[39;00m \u001b[38;5;28mself\u001b[39m\u001b[38;5;241m.\u001b[39mobservation(obs), info\n",
      "File \u001b[1;32me:\\Downloads\\Programs\\conda\\envs\\TorchImage\\lib\\site-packages\\gymnasium\\core.py:516\u001b[0m, in \u001b[0;36mObservationWrapper.reset\u001b[1;34m(self, seed, options)\u001b[0m\n\u001b[0;32m    514\u001b[0m \u001b[38;5;250m\u001b[39m\u001b[38;5;124;03m\"\"\"Modifies the :attr:`env` after calling :meth:`reset`, returning a modified observation using :meth:`self.observation`.\"\"\"\u001b[39;00m\n\u001b[0;32m    515\u001b[0m obs, info \u001b[38;5;241m=\u001b[39m \u001b[38;5;28mself\u001b[39m\u001b[38;5;241m.\u001b[39menv\u001b[38;5;241m.\u001b[39mreset(seed\u001b[38;5;241m=\u001b[39mseed, options\u001b[38;5;241m=\u001b[39moptions)\n\u001b[1;32m--> 516\u001b[0m \u001b[38;5;28;01mreturn\u001b[39;00m \u001b[38;5;28;43mself\u001b[39;49m\u001b[38;5;241;43m.\u001b[39;49m\u001b[43mobservation\u001b[49m\u001b[43m(\u001b[49m\u001b[43mobs\u001b[49m\u001b[43m)\u001b[49m, info\n",
      "File \u001b[1;32me:\\Juan\\Ort\\Master\\Taller de IA\\reinforcement-learning\\Atari\\utils.py:93\u001b[0m, in \u001b[0;36mGrayScaleObservation.observation\u001b[1;34m(self, observation)\u001b[0m\n\u001b[0;32m     92\u001b[0m \u001b[38;5;28;01mdef\u001b[39;00m \u001b[38;5;21mobservation\u001b[39m(\u001b[38;5;28mself\u001b[39m, observation):\n\u001b[1;32m---> 93\u001b[0m     observation \u001b[38;5;241m=\u001b[39m \u001b[38;5;28;43mself\u001b[39;49m\u001b[38;5;241;43m.\u001b[39;49m\u001b[43mpermute_orientation\u001b[49m\u001b[43m(\u001b[49m\u001b[43mobservation\u001b[49m\u001b[43m)\u001b[49m\n\u001b[0;32m     94\u001b[0m     transform \u001b[38;5;241m=\u001b[39m T\u001b[38;5;241m.\u001b[39mGrayscale()\n\u001b[0;32m     95\u001b[0m     observation \u001b[38;5;241m=\u001b[39m transform(observation)\n",
      "File \u001b[1;32me:\\Juan\\Ort\\Master\\Taller de IA\\reinforcement-learning\\Atari\\utils.py:88\u001b[0m, in \u001b[0;36mGrayScaleObservation.permute_orientation\u001b[1;34m(self, observation)\u001b[0m\n\u001b[0;32m     86\u001b[0m \u001b[38;5;28;01mdef\u001b[39;00m \u001b[38;5;21mpermute_orientation\u001b[39m(\u001b[38;5;28mself\u001b[39m, observation):\n\u001b[0;32m     87\u001b[0m     \u001b[38;5;66;03m# permute [H, W, C] array to [C, H, W] tensor\u001b[39;00m\n\u001b[1;32m---> 88\u001b[0m     observation \u001b[38;5;241m=\u001b[39m \u001b[43mnp\u001b[49m\u001b[38;5;241;43m.\u001b[39;49m\u001b[43mtranspose\u001b[49m\u001b[43m(\u001b[49m\u001b[43mobservation\u001b[49m\u001b[43m,\u001b[49m\u001b[43m \u001b[49m\u001b[43m(\u001b[49m\u001b[38;5;241;43m2\u001b[39;49m\u001b[43m,\u001b[49m\u001b[43m \u001b[49m\u001b[38;5;241;43m0\u001b[39;49m\u001b[43m,\u001b[49m\u001b[43m \u001b[49m\u001b[38;5;241;43m1\u001b[39;49m\u001b[43m)\u001b[49m\u001b[43m)\u001b[49m\n\u001b[0;32m     89\u001b[0m     observation \u001b[38;5;241m=\u001b[39m torch\u001b[38;5;241m.\u001b[39mtensor(observation\u001b[38;5;241m.\u001b[39mcopy(), dtype\u001b[38;5;241m=\u001b[39mtorch\u001b[38;5;241m.\u001b[39mfloat)\n\u001b[0;32m     90\u001b[0m     \u001b[38;5;28;01mreturn\u001b[39;00m observation\n",
      "File \u001b[1;32me:\\Downloads\\Programs\\conda\\envs\\TorchImage\\lib\\site-packages\\numpy\\core\\fromnumeric.py:655\u001b[0m, in \u001b[0;36mtranspose\u001b[1;34m(a, axes)\u001b[0m\n\u001b[0;32m    588\u001b[0m \u001b[38;5;129m@array_function_dispatch\u001b[39m(_transpose_dispatcher)\n\u001b[0;32m    589\u001b[0m \u001b[38;5;28;01mdef\u001b[39;00m \u001b[38;5;21mtranspose\u001b[39m(a, axes\u001b[38;5;241m=\u001b[39m\u001b[38;5;28;01mNone\u001b[39;00m):\n\u001b[0;32m    590\u001b[0m \u001b[38;5;250m    \u001b[39m\u001b[38;5;124;03m\"\"\"\u001b[39;00m\n\u001b[0;32m    591\u001b[0m \u001b[38;5;124;03m    Returns an array with axes transposed.\u001b[39;00m\n\u001b[0;32m    592\u001b[0m \n\u001b[1;32m   (...)\u001b[0m\n\u001b[0;32m    653\u001b[0m \n\u001b[0;32m    654\u001b[0m \u001b[38;5;124;03m    \"\"\"\u001b[39;00m\n\u001b[1;32m--> 655\u001b[0m     \u001b[38;5;28;01mreturn\u001b[39;00m \u001b[43m_wrapfunc\u001b[49m\u001b[43m(\u001b[49m\u001b[43ma\u001b[49m\u001b[43m,\u001b[49m\u001b[43m \u001b[49m\u001b[38;5;124;43m'\u001b[39;49m\u001b[38;5;124;43mtranspose\u001b[39;49m\u001b[38;5;124;43m'\u001b[39;49m\u001b[43m,\u001b[49m\u001b[43m \u001b[49m\u001b[43maxes\u001b[49m\u001b[43m)\u001b[49m\n",
      "File \u001b[1;32me:\\Downloads\\Programs\\conda\\envs\\TorchImage\\lib\\site-packages\\numpy\\core\\fromnumeric.py:59\u001b[0m, in \u001b[0;36m_wrapfunc\u001b[1;34m(obj, method, *args, **kwds)\u001b[0m\n\u001b[0;32m     56\u001b[0m     \u001b[38;5;28;01mreturn\u001b[39;00m _wrapit(obj, method, \u001b[38;5;241m*\u001b[39margs, \u001b[38;5;241m*\u001b[39m\u001b[38;5;241m*\u001b[39mkwds)\n\u001b[0;32m     58\u001b[0m \u001b[38;5;28;01mtry\u001b[39;00m:\n\u001b[1;32m---> 59\u001b[0m     \u001b[38;5;28;01mreturn\u001b[39;00m bound(\u001b[38;5;241m*\u001b[39margs, \u001b[38;5;241m*\u001b[39m\u001b[38;5;241m*\u001b[39mkwds)\n\u001b[0;32m     60\u001b[0m \u001b[38;5;28;01mexcept\u001b[39;00m \u001b[38;5;167;01mTypeError\u001b[39;00m:\n\u001b[0;32m     61\u001b[0m     \u001b[38;5;66;03m# A TypeError occurs if the object does have such a method in its\u001b[39;00m\n\u001b[0;32m     62\u001b[0m     \u001b[38;5;66;03m# class, but its signature is not identical to that of NumPy's. This\u001b[39;00m\n\u001b[1;32m   (...)\u001b[0m\n\u001b[0;32m     66\u001b[0m     \u001b[38;5;66;03m# Call _wrapit from within the except clause to ensure a potential\u001b[39;00m\n\u001b[0;32m     67\u001b[0m     \u001b[38;5;66;03m# exception has a traceback chain.\u001b[39;00m\n\u001b[0;32m     68\u001b[0m     \u001b[38;5;28;01mreturn\u001b[39;00m _wrapit(obj, method, \u001b[38;5;241m*\u001b[39margs, \u001b[38;5;241m*\u001b[39m\u001b[38;5;241m*\u001b[39mkwds)\n",
      "\u001b[1;31mValueError\u001b[0m: axes don't match array"
     ]
    }
   ],
   "source": [
    "rewards = agent.train(EPISODES, TOTAL_STEPS, use_wandb=False)"
   ]
  },
  {
   "cell_type": "markdown",
   "metadata": {},
   "source": [
    "### Graficamos las recompensas obtenidas durante el entrenamiento "
   ]
  },
  {
   "cell_type": "code",
   "execution_count": null,
   "metadata": {},
   "outputs": [
    {
     "data": {
      "text/plain": [
       "[<matplotlib.lines.Line2D at 0x20743637610>]"
      ]
     },
     "execution_count": 15,
     "metadata": {},
     "output_type": "execute_result"
    },
    {
     "data": {
      "image/png": "[encoded data removed]",
      "text/plain": [
       "<Figure size 640x480 with 1 Axes>"
      ]
     },
     "metadata": {},
     "output_type": "display_data"
    }
   ],
   "source": [
    "import matplotlib.pyplot as plt\n",
    "\n",
    "average_range = EPISODE_BLOCK\n",
    "episode_ticks = int(len(rewards) / average_range)\n",
    "\n",
    "avg_rewards = np.array(rewards).reshape((episode_ticks, average_range))\n",
    "avg_rewards = np.mean(avg_rewards, axis=1)\n",
    "\n",
    "plt.plot(range(len(avg_rewards)), avg_rewards)"
   ]
  },
  {
   "cell_type": "markdown",
   "metadata": {},
   "source": [
    "### Creamos un video para ver la performance del agente"
   ]
  },
  {
   "cell_type": "code",
   "execution_count": null,
   "metadata": {},
   "outputs": [],
   "source": [
    "import glob\n",
    "from gymnasium.wrappers.record_video import RecordVideo\n",
    "from IPython.display import HTML\n",
    "from IPython import display as ipythondisplay\n",
    "import io\n",
    "import base64\n",
    "\n",
    "def show_video():\n",
    "  \"\"\"\n",
    "  Utility function to enable video recording of gym environment and displaying it\n",
    "  To enable video, just do \"env = wrap_env(env)\"\"\n",
    "  \"\"\"\n",
    "  mp4list = glob.glob('./video/*.mp4')\n",
    "  if len(mp4list) > 0:\n",
    "    mp4 = mp4list[0]\n",
    "    video = io.open(mp4, 'r+b').read()\n",
    "    encoded = base64.b64encode(video)\n",
    "    ipythondisplay.display(HTML(data='''<video alt=\"test\" autoplay\n",
    "                loop controls style=\"height: 400px;\">\n",
    "                <source src=\"data:video/mp4;base64,{0}\" type=\"video/mp4\" />\n",
    "             </video>'''.format(encoded.decode('ascii'))))\n",
    "  else:\n",
    "    print(\"Could not find video\")\n",
    "\n",
    "\n",
    "def wrap_env(env):\n",
    "  \"\"\"\n",
    "  Wrapper del ambiente donde definimos un Monitor que guarda la visualizacion como un archivo de video.\n",
    "  \"\"\"\n",
    "\n",
    "  #env = Monitor(env, './video', force=True)\n",
    "  env = RecordVideo(env,video_folder='./videos', name_prefix='video', episode_trigger=lambda x: x % 2 == 1)\n",
    "  return env"
   ]
  },
  {
   "cell_type": "code",
   "execution_count": null,
   "metadata": {},
   "outputs": [
    {
     "name": "stdout",
     "output_type": "stream",
     "text": [
      "Moviepy - Building video c:\\Users\\juan1\\Ort\\Agentes Inteligentes\\reinforcement-learning\\Atari\\videos\\video-episode-1.mp4.\n",
      "Moviepy - Writing video c:\\Users\\juan1\\Ort\\Agentes Inteligentes\\reinforcement-learning\\Atari\\videos\\video-episode-1.mp4\n",
      "\n"
     ]
    },
    {
     "name": "stderr",
     "output_type": "stream",
     "text": [
      "                                                  "
     ]
    },
    {
     "name": "stdout",
     "output_type": "stream",
     "text": [
      "Moviepy - Done !\n",
      "Moviepy - video ready c:\\Users\\juan1\\Ort\\Agentes Inteligentes\\reinforcement-learning\\Atari\\videos\\video-episode-1.mp4\n"
     ]
    },
    {
     "name": "stderr",
     "output_type": "stream",
     "text": [
      "\r"
     ]
    },
    {
     "data": {
      "text/html": [
       "<video alt=\"test\" autoplay\n",
       "                loop controls style=\"height: 400px;\">\n",
       "                <source src=\"data:video/mp4;base64,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\" type=\"video/mp4\" />\n",
       "             </video>"
      ],
      "text/plain": [
       "<IPython.core.display.HTML object>"
      ]
     },
     "metadata": {},
     "output_type": "display_data"
    }
   ],
   "source": [
    "env = wrap_env(gymnasium.make(ENV_NAME, render_mode=\"rgb_array\"))\n",
    "observation,_ = env.reset()\n",
    "\n",
    "while True:\n",
    "    env.render()\n",
    "\n",
    "    action = agent.select_action(process_state(observation, DEVICE), train=False)\n",
    "    observation, reward, done, truncated, _ = env.step(action.item())\n",
    "\n",
    "    if done:\n",
    "      break\n",
    "\n",
    "# Cerramos la conexion con el Monitor de ambiente y mostramos el video.\n",
    "env.close()\n",
    "show_video()\n",
    "\n",
    "del env"
   ]
  },
  {
   "cell_type": "code",
   "execution_count": null,
   "metadata": {},
   "outputs": [
    {
     "name": "stderr",
     "output_type": "stream",
     "text": [
      "c:\\Users\\juan1\\anaconda3\\envs\\TallerIA\\lib\\site-packages\\gymnasium\\wrappers\\record_video.py:94: UserWarning: \u001b[33mWARN: Overwriting existing videos at c:\\Users\\juan1\\Ort\\Agentes Inteligentes\\reinforcement-learning\\Atari\\video folder (try specifying a different `video_folder` for the `RecordVideo` wrapper if this is not desired)\u001b[0m\n",
      "  logger.warn(\n"
     ]
    },
    {
     "name": "stdout",
     "output_type": "stream",
     "text": [
      "Moviepy - Building video c:\\Users\\juan1\\Ort\\Agentes Inteligentes\\reinforcement-learning\\Atari\\video\\video_test.mp4-episode-0.mp4.\n",
      "Moviepy - Writing video c:\\Users\\juan1\\Ort\\Agentes Inteligentes\\reinforcement-learning\\Atari\\video\\video_test.mp4-episode-0.mp4\n",
      "\n"
     ]
    },
    {
     "name": "stderr",
     "output_type": "stream",
     "text": [
      "                                                   "
     ]
    },
    {
     "name": "stdout",
     "output_type": "stream",
     "text": [
      "Moviepy - Done !\n",
      "Moviepy - video ready c:\\Users\\juan1\\Ort\\Agentes Inteligentes\\reinforcement-learning\\Atari\\video\\video_test.mp4-episode-0.mp4\n"
     ]
    },
    {
     "name": "stderr",
     "output_type": "stream",
     "text": [
      "\r"
     ]
    },
    {
     "data": {
      "text/html": [
       "<video alt=\"test\" autoplay \n",
       "                    loop controls style=\"height: 400px;\">\n",
       "                    <source src=\"data:video/mp4;base64,AAAAIGZ0eXBpc29tAAACAGlzb21pc28yYXZjMW1wNDEAAAAIZnJlZQAACcRtZGF0AAACoQYF//+d3EXpvebZSLeWLNgg2SPu73gyNjQgLSBjb3JlIDE1OSAtIEguMjY0L01QRUctNCBBVkMgY29kZWMgLSBDb3B5bGVmdCAyMDAzLTIwMTkgLSBodHRwOi8vd3d3LnZpZGVvbGFuLm9yZy94MjY0Lmh0bWwgLSBvcHRpb25zOiBjYWJhYz0xIHJlZj0zIGRlYmxvY2s9MTowOjAgYW5hbHlzZT0weDM6MHgxMTMgbWU9aGV4IHN1Ym1lPTcgcHN5PTEgcHN5X3JkPTEuMDA6MC4wMCBtaXhlZF9yZWY9MSBtZV9yYW5nZT0xNiBjaHJvbWFfbWU9MSB0cmVsbGlzPTEgOHg4ZGN0PTEgY3FtPTAgZGVhZHpvbmU9MjEsMTEgZmFzdF9wc2tpcD0xIGNocm9tYV9xcF9vZmZzZXQ9LTIgdGhyZWFkcz0xMiBsb29rYWhlYWRfdGhyZWFkcz0yIHNsaWNlZF90aHJlYWRzPTAgbnI9MCBkZWNpbWF0ZT0xIGludGVybGFjZWQ9MCBibHVyYXlfY29tcGF0PTAgY29uc3RyYWluZWRfaW50cmE9MCBiZnJhbWVzPTMgYl9weXJhbWlkPTIgYl9hZGFwdD0xIGJfYmlhcz0wIGRpcmVjdD0xIHdlaWdodGI9MSBvcGVuX2dvcD0wIHdlaWdodHA9MiBrZXlpbnQ9MjUwIGtleWludF9taW49MjUgc2NlbmVjdXQ9NDAgaW50cmFfcmVmcmVzaD0wIHJjX2xvb2thaGVhZD00MCByYz1jcmYgbWJ0cmVlPTEgY3JmPTIzLjAgcWNvbXA9MC42MCBxcG1pbj0wIHFwbWF4PTY5IHFwc3RlcD00IGlwX3JhdGlvPTEuNDAgYXE9MToxLjAwAIAAAAHMZYiEACf//vWxfApqyfOKDOgyLuGXJMmutiLibQDAACVAAAADAABLJlCWzIByZd0AAAMATIAOKH0GUHmImKsVAlgwKEo4JjWSeH8b/QXi5NZeQ0muuDkKd9kVJkHrv+36U6noEDQRS/DZo4dn+NOzm37Zey/rhtc0ze1c1v/g6uOHMUa3cB64fD76d2sMm1jrWx5Rgul6FRYADtt7McZLlRWp0lq5ZniNOCbzVv/Utxnu5sVEHi50OJRZm2CoAK+uHS+iUOU3gz4gL/HRTxrIOjuDEJHW/nhHFk3S4uEAV79OIEyOCvqL+4x3cDnB0jr5a4qwt0aCs4YNunMNyIoJ5FXoV0QMItsohm18K/bPXahzn6A1Uvj2Zu9H5IqrX8IHxitaOj/sctDCYA8ADSEDnf9Z2R1/5lLATIGwHXKnVi7AB/v3tZUJd3PnmfuxVy2xYgteE+NvyKoclttfC71yu2blgGL6WFTUwIg5GJOeSP3IctVGLrkO7kb2M3AyWJxyuK69LQefWLbBe3dlKa78aifkyIAvmnRSPZ3IAwKUGPur7LQzweQ3rVI9gJlYt3rTd8yzECGTbOYimjySfjPSQGGbLAAAAwAAAwB4wQAAAHZBmiRsQn/98QAAAwKfMCr2D6+n9cOHQb4hk2/vKyO/RSUW7/H1vm7PhMZoLyi9E890r3KJ4oa3GJVXr+l2CXvuMO0Dp/x00Ch5uFAbWv0SEyS3q0IS/FfpAka91FDzWKNbSONHcyPb+mBt/ADQgdoXAEhunvgsAAAAK0GeQniEfwAAFrNHtxDi+8bJRwTELO8MF1eG6tVW7mYMJPzW7MQH5Z5FIQsAAAAlAZ5hdEf/AAAjuK/fVtuOvxgX2EjOW/KiPcUhlqOAZ8OW3Qy/fAAAAB0BnmNqR/8AACO/BCcSyWmgTHUYb9sOlF4mPwZRDwAAAKBBmmhJqEFomUwIT//98QAAAwKe9thnjBmLweo7gEXZuFAwQdMklMvwA4oHqGNIzXGSDXJP/q7VxX0MiWjNa7x7qcW+TL7Yl/dS/E0FMyG74Lz9MNuslDq/67Zw37QGNQlbKxSJWZMz+uy+G2N5Rno4c6v9EQDdsYdPnZJp6cNQOGqJFd3I4fLI2Dl8nx+3cVDFioZppDzDpfuIlfRZINdhAAAAP0GehkURLCP/AAAWvEPKjofihR0vJyNo15ck49T9WrEIXiL+JEl0thrSXwAkrzb81Ene/VuE/NUd+Him4UwZjwAAACcBnqV0R/8AAA1+EvHrROdoLBRWQCVGnRXrFzXuuJCr7Nzw3d38eIEAAAAqAZ6nakf/AAAjrl4zgi+06QjSFxNSGuiYMaPLySjuo9s3G63r8gmnNuCwAAAAzUGarEmoQWyZTAhH//3hAAAEFjk3NuY88AVi8/hI9+T80JXE6RHcCPjBo2dHxFBoU4leyNppeGdVmXqoWfGzuF6gaXFBX+/37eo2u/ynJBU5xnm7eEA7eAyxnjMSBRNCx5YbAt+ootGR81TbjWbSKYyu0PRaJNF3g+bXONdfUx6ukHYnKMvn/e33fa42/+ul4O41mQIs2Zdy1YHDhSz0E+iAD0IJ7565NYmCmo2ZD4UPHI3EpQPr91b0LY+pLkGYhPNHoIZA/aN4/gOAw6AAAABaQZ7KRRUsI/8AABatNdJxN3vdjsDVWJdAIWgyMCnscFmrG/PyMaNzpBKI6WDgFBLmc/woZr5k4pBVLyQ+HUsPgjZuWgw5D+ywejG2nNmlhucKRkPeJQvvbmk5AAAAMwGe6XRH/wAAI8MXaeu4maQ8Pph8YZTZUdNZNhqy0lVgy8yIXZR9yxJK50+AgODRCoKp8AAAAEgBnutqR/8AACO9g4HJRIF+/E8IXZr6UYnfcLhblrOtyqGTi+7VSYB2ExIIPvH5nEV1gZGruOKpGg572RxACX2Ht6RckFG1b0AAAACpQZrvSahBbJlMCP/8hAAAD9OumZF8RzY2kp1kQ0z3pzrwUzOAF0wHpWiuedrsxAy3ksg6S75hl6K1hoPOB18tlFjNLroWkdGlijftLYAdihVYNqoBpKJMTEeeyzT0yrmrfSsERivd4XGUs5JuISHgKnXCz0PBwGPqbPAR1sqMjV/g+Mr781w/TX6YqlPitflqPea9NUndwbOrQ4momtZvt4Pe+DhGD2FFQQAAAFpBnw1FFSwj/wAAFsAxVESgeLDNpJuACvByqye8weKVm1VzI7Mw5WoiXGS/BkX5n0VxXzrunDLzzMvKpbpSWI9zhOQATtUyq37vogx+9U/Ah9yZ1qdGb6Vz5cEAAABTAZ8uakf/AAAjxt7CsvENcbR8HbPY3/bJgLcSrKQlg3H3XHefAWE9bGidHrq7f8M46VN+ADKaXV73X1zueIpCSy1tlSXvaW8gqMErT7ycI6b+QsEAAAPLbW9vdgAAAGxtdmhkAAAAAAAAAAAAAAAAAAAD6AAAAUAAAQAAAQAAAAAAAAAAAAAAAAEAAAAAAAAAAAAAAAAAAAABAAAAAAAAAAAAAAAAAABAAAAAAAAAAAAAAAAAAAAAAAAAAAAAAAAAAAAAAAAAAgAAAvV0cmFrAAAAXHRraGQAAAADAAAAAAAAAAAAAAABAAAAAAAAAUAAAAAAAAAAAAAAAAAAAAAAAAEAAAAAAAAAAAAAAAAAAAABAAAAAAAAAAAAAAAAAABAAAAAAlgAAAGQAAAAAAAkZWR0cwAAABxlbHN0AAAAAAAAAAEAAAFAAAACAAABAAAAAAJtbWRpYQAAACBtZGhkAAAAAAAAAAAAAAAAAAAyAAAAEABVxAAAAAAALWhkbHIAAAAAAAAAAHZpZGUAAAAAAAAAAAAAAABWaWRlb0hhbmRsZXIAAAACGG1pbmYAAAAUdm1oZAAAAAEAAAAAAAAAAAAAACRkaW5mAAAAHGRyZWYAAAAAAAAAAQAAAAx1cmwgAAAAAQAAAdhzdGJsAAAAmHN0c2QAAAAAAAAAAQAAAIhhdmMxAAAAAAAAAAEAAAAAAAAAAAAAAAAAAAAAAlgBkABIAAAASAAAAAAAAAABAAAAAAAAAAAAAAAAAAAAAAAAAAAAAAAAAAAAAAAAAAAAGP//AAAAMmF2Y0MBZAAf/+EAGWdkAB+s2UCYM+XhAAADAAEAAAMAZA8YMZYBAAZo6+PLIsAAAAAYc3R0cwAAAAAAAAABAAAAEAAAAQAAAAAUc3RzcwAAAAAAAAABAAAAAQAAAIhjdHRzAAAAAAAAAA8AAAABAAACAAAAAAEAAAUAAAAAAQAAAgAAAAABAAAAAAAAAAEAAAEAAAAAAQAABQAAAAABAAACAAAAAAEAAAAAAAAAAQAAAQAAAAABAAAFAAAAAAEAAAIAAAAAAQAAAAAAAAABAAABAAAAAAEAAAQAAAAAAgAAAQAAAAAcc3RzYwAAAAAAAAABAAAAAQAAABAAAAABAAAAVHN0c3oAAAAAAAAAAAAAABAAAAR1AAAAegAAAC8AAAApAAAAIQAAAKQAAABDAAAAKwAAAC4AAADRAAAAXgAAADcAAABMAAAArQAAAF4AAABXAAAAFHN0Y28AAAAAAAAAAQAAADAAAABidWR0YQAAAFptZXRhAAAAAAAAACFoZGxyAAAAAAAAAABtZGlyYXBwbAAAAAAAAAAAAAAAAC1pbHN0AAAAJal0b28AAAAdZGF0YQAAAAEAAAAATGF2ZjU4LjI5LjEwMA==\" type=\"video/mp4\" />\n",
       "                 </video>"
      ],
      "text/plain": [
       "<IPython.core.display.HTML object>"
      ]
     },
     "metadata": {},
     "output_type": "display_data"
    }
   ],
   "source": [
    "agent.env = gymnasium.make(ENV_NAME, render_mode=\"rgb_array\")\n",
    "agent.env.reset()\n",
    "agent.make_video(\"video_test.mp4\", True)"
   ]
  }
 ],
 "metadata": {
  "accelerator": "GPU",
  "colab": {
   "provenance": []
  },
  "interpreter": {
   "hash": "81794d4967e6c3204c66dcd87b604927b115b27c00565d3d43f05ba2f3a2cb0d"
  },
  "kernelspec": {
   "display_name": "Python 3",
   "language": "python",
   "name": "python3"
  },
  "language_info": {
   "codemirror_mode": {
    "name": "ipython",
    "version": 3
   },
   "file_extension": ".py",
   "mimetype": "text/x-python",
   "name": "python",
   "nbconvert_exporter": "python",
   "pygments_lexer": "ipython3",
   "version": "3.10.13"
  }
 },
 "nbformat": 4,
 "nbformat_minor": 1
}
